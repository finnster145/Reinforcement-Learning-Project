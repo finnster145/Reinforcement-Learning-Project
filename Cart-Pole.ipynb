{
 "cells": [
  {
   "cell_type": "code",
   "execution_count": 4,
   "id": "ac412857",
   "metadata": {},
   "outputs": [],
   "source": [
    "import tensorflow as tf\n",
    "import gym\n",
    "import numpy as np\n",
    "import matplotlib.pyplot as plt\n",
    "import time, math, random\n",
    "from typing import Tuple\n",
    "from sklearn.preprocessing import KBinsDiscretizer\n",
    "env = gym.make('CartPole-v1')"
   ]
  },
  {
   "cell_type": "code",
   "execution_count": 5,
   "id": "099679f2",
   "metadata": {},
   "outputs": [
    {
     "name": "stderr",
     "output_type": "stream",
     "text": [
      "C:\\Users\\finns\\anaconda3\\envs\\hello-tf\\lib\\site-packages\\gym\\envs\\classic_control\\cartpole.py:151: UserWarning: \u001b[33mWARN: You are calling 'step()' even though this environment has already returned done = True. You should always call 'reset()' once you receive 'done = True' -- any further steps are undefined behavior.\u001b[0m\n",
      "  \"You are calling 'step()' even though this \"\n"
     ]
    }
   ],
   "source": [
    "\n",
    "policy = lambda obs: 0\n",
    "\n",
    "for _ in range(5):\n",
    "    obs = env.reset()\n",
    "    for _ in range(80):\n",
    "        actions = policy(obs)\n",
    "        obs, reward, done, info = env.step(actions)\n",
    "        env.render()\n",
    "        time.sleep(0.05)\n",
    "\n",
    "env.close()"
   ]
  },
  {
   "cell_type": "code",
   "execution_count": 4,
   "id": "c23e8863",
   "metadata": {},
   "outputs": [
    {
     "data": {
      "image/png": "[encoded data removed]",
      "text/plain": [
       "<Figure size 432x288 with 1 Axes>"
      ]
     },
     "metadata": {
      "needs_background": "light"
     },
     "output_type": "display_data"
    },
    {
     "name": "stdout",
     "output_type": "stream",
     "text": [
      "14.117\n"
     ]
    }
   ],
   "source": [
    "def run_episode(env, parameters):\n",
    "    observation = env.reset()\n",
    "    totalreward = 0\n",
    "    for _ in range(200):\n",
    "        action = 0 if np.matmul(parameters,observation) < 0 else 1\n",
    "        observation, reward, done, info = env.step(action)\n",
    "        totalreward += reward\n",
    "        if done:\n",
    "            break\n",
    "    return totalreward\n",
    "\n",
    "def train(submit):\n",
    "    env = gym.make('CartPole-v1')\n",
    "    if submit:\n",
    "        env.monitor.start('cartpole-experiments/', force=True)\n",
    "\n",
    "    counter = 0\n",
    "    bestparams = None\n",
    "    bestreward = 0\n",
    "    for _ in range(10000):\n",
    "        counter += 1\n",
    "        parameters = np.random.rand(4) * 2 - 1\n",
    "        reward = run_episode(env,parameters)\n",
    "        if reward > bestreward:\n",
    "            bestreward = reward\n",
    "            bestparams = parameters\n",
    "            if reward == 200:\n",
    "                break\n",
    "\n",
    "    if submit:\n",
    "        for _ in xrange(100):\n",
    "            run_episode(env,bestparams)\n",
    "        env.monitor.close()\n",
    "\n",
    "    return counter\n",
    "\n",
    "# train an agent to submit to openai gym\n",
    "# train(submit=True)\n",
    "\n",
    "# create graphs\n",
    "results = []\n",
    "for _ in range(1000):\n",
    "    results.append(train(submit=False))\n",
    "\n",
    "plt.hist(results,50,density=True, facecolor='g', edgecolor='b', alpha=0.75)\n",
    "plt.xlabel('Episodes')\n",
    "plt.ylabel('Frequency')\n",
    "plt.title('Histogram of Random Search')\n",
    "plt.show()\n",
    "\n",
    "print(np.sum(results) / 1000.0)"
   ]
  },
  {
   "cell_type": "code",
   "execution_count": null,
   "id": "0a137147",
   "metadata": {},
   "outputs": [],
   "source": []
  },
  {
   "cell_type": "markdown",
   "id": "037b52ca",
   "metadata": {},
   "source": [
    "# Q-Learning Method: CartPole"
   ]
  },
  {
   "cell_type": "code",
   "execution_count": 33,
   "id": "57a2feb6",
   "metadata": {},
   "outputs": [],
   "source": [
    "n_bins = ( 6 , 12 )\n",
    "lower_bounds = [ env.observation_space.low[2], -math.radians(50) ]\n",
    "upper_bounds = [ env.observation_space.high[2], math.radians(50) ]\n",
    "\n",
    "def discretizer( _ , __ , angle, pole_velocity ) -> Tuple[int,...]:\n",
    "    \"\"\"Convert continues state intro a discrete state\"\"\"\n",
    "    est = KBinsDiscretizer(n_bins=n_bins, encode='ordinal', strategy='uniform')\n",
    "    est.fit([lower_bounds, upper_bounds ])\n",
    "    return tuple(map(int,est.transform([[angle, pole_velocity]])[0]))"
   ]
  },
  {
   "cell_type": "code",
   "execution_count": 34,
   "id": "7986f84f",
   "metadata": {},
   "outputs": [
    {
     "data": {
      "text/plain": [
       "(6, 12, 2)"
      ]
     },
     "execution_count": 34,
     "metadata": {},
     "output_type": "execute_result"
    }
   ],
   "source": [
    "Q_table = np.zeros(n_bins + (env.action_space.n,))\n",
    "Q_table.shape"
   ]
  },
  {
   "cell_type": "code",
   "execution_count": 35,
   "id": "fa3a6a60",
   "metadata": {},
   "outputs": [],
   "source": [
    "def policy( state : tuple ):\n",
    "    \"\"\"Choosing action based on epsilon-greedy policy\"\"\"\n",
    "    return np.argmax(Q_table[state])"
   ]
  },
  {
   "cell_type": "code",
   "execution_count": 36,
   "id": "862beeab",
   "metadata": {},
   "outputs": [],
   "source": [
    "def new_Q_value( reward : float ,  new_state : tuple , discount_factor=1 ) -> float:\n",
    "    \"\"\"Temperal diffrence for updating Q-value of state-action pair\"\"\"\n",
    "    future_optimal_value = np.max(Q_table[new_state])\n",
    "    learned_value = reward + discount_factor * future_optimal_value\n",
    "    return learned_value"
   ]
  },
  {
   "cell_type": "code",
   "execution_count": 37,
   "id": "e3e5f9fb",
   "metadata": {},
   "outputs": [],
   "source": [
    "# Adaptive learning of Learning Rate\n",
    "def learning_rate(n : int , min_rate=0.01 ) -> float  :\n",
    "    \"\"\"Decaying learning rate\"\"\"\n",
    "    return max(min_rate, min(1.0, 1.0 - math.log10((n + 1) / 25)))"
   ]
  },
  {
   "cell_type": "code",
   "execution_count": 38,
   "id": "3d128e14",
   "metadata": {},
   "outputs": [],
   "source": [
    "def exploration_rate(n : int, min_rate= 0.1 ) -> float :\n",
    "    \"\"\"Decaying exploration rate\"\"\"\n",
    "    return max(min_rate, min(1, 1.0 - math.log10((n  + 1) / 25)))"
   ]
  },
  {
   "cell_type": "code",
   "execution_count": 41,
   "id": "6c68b860",
   "metadata": {},
   "outputs": [
    {
     "data": {
      "image/png": "[encoded data removed]",
      "text/plain": [
       "<Figure size 864x360 with 2 Axes>"
      ]
     },
     "metadata": {
      "needs_background": "light"
     },
     "output_type": "display_data"
    }
   ],
   "source": [
    "n_episodes = 100\n",
    "results = []\n",
    "values = []\n",
    "for e in range(n_episodes):\n",
    "    \n",
    "    # Siscretize state into buckets\n",
    "    current_state, done = discretizer(*env.reset()), False\n",
    "    totalreward = 0\n",
    "    \n",
    "    while done==False:\n",
    "        \n",
    "        # policy action \n",
    "        action = policy(current_state) # exploit\n",
    "        \n",
    "        # insert random action\n",
    "        if np.random.random() < exploration_rate(e) : \n",
    "            action = env.action_space.sample() # explore \n",
    "         \n",
    "        # increment enviroment\n",
    "        obs, reward, done, _ = env.step(action)\n",
    "        totalreward += reward\n",
    "        values.append(totalreward)\n",
    "        \n",
    "        new_state = discretizer(*obs)\n",
    "        \n",
    "        # Update Q-Table\n",
    "        lr = learning_rate(e)\n",
    "        learnt_value = new_Q_value(reward , new_state )\n",
    "        results.append(learnt_value)\n",
    "        old_value = Q_table[current_state][action]\n",
    "        Q_table[current_state][action] = (1-lr)*old_value + lr*learnt_value\n",
    "        \n",
    "        \n",
    "        current_state = new_state\n",
    "        \n",
    "        # Render the cartpole environment\n",
    "        # env.render()\n",
    "        \n",
    "f, ax = plt.subplots(nrows=1, ncols=2, figsize=(12,5))\n",
    "ax[0].hist(results)\n",
    "ax[0].axvline(195, c='red', label='goal')\n",
    "ax[0].set_xlabel('Scores for each Run')\n",
    "ax[0].set_ylabel('Frequency')\n",
    "ax[0].legend()\n",
    "\n",
    "plt.hist(values,50,density=True, facecolor='g', edgecolor='b', alpha=0.75)\n",
    "plt.xlabel('Episodes')\n",
    "plt.ylabel('Frequency')\n",
    "plt.title('Histogram of Q-Learning')\n",
    "plt.show()"
   ]
  },
  {
   "cell_type": "markdown",
   "id": "f1d369e6",
   "metadata": {},
   "source": [
    "# Cartpole with SARSA Learning"
   ]
  },
  {
   "cell_type": "code",
   "execution_count": null,
   "id": "c4b0fcea",
   "metadata": {},
   "outputs": [],
   "source": [
    "import gym\n",
    "import numpy as np\n",
    "import math\n",
    "import matplotlib.pyplot as plt \n",
    "\n",
    "env = gym.make(\"CartPole-v0\")\n",
    "\n",
    "#Environment values\n",
    "print(env.observation_space.high)\t#[4.8000002e+00 3.4028235e+38 4.1887903e-01 3.4028235e+38]\n",
    "print(env.observation_space.low)\t#[-4.8000002e+00 -3.4028235e+38 -4.1887903e-01 -3.4028235e+38]\n",
    "print(env.action_space.n)\t\t\t#2\n",
    "\n",
    "#Hyperparamters\n",
    "EPISODES = 30000\n",
    "DISCOUNT = 0.95\n",
    "EPISODE_DISPLAY = 500\n",
    "LEARNING_RATE = 0.25\n",
    "EPSILON = 0.2\n",
    "\n",
    "#Q-Table of size theta_state_size*theta_dot_state_size*env.action_space.n\n",
    "theta_minmax = env.observation_space.high[2] \n",
    "theta_dot_minmax = math.radians(50)\n",
    "theta_state_size = 50\n",
    "theta_dot_state_size = 50\n",
    "Q_TABLE = np.random.randn(theta_state_size,theta_dot_state_size,env.action_space.n)\n",
    "\n",
    "# For stats\n",
    "ep_rewards = []\n",
    "ep_rewards_table = {'ep': [], 'avg': [], 'min': [], 'max': []}\n",
    "\n",
    "def discretised_state(state):\n",
    "    #state[2] -> theta\n",
    "    #state[3] -> theta_dot\n",
    "    discrete_state = np.array([0,0])\t\t#Initialised discrete array\n",
    "    theta_window =  ( theta_minmax - (-theta_minmax) ) / theta_state_size\n",
    "    discrete_state[0] = ( state[2] - (-theta_minmax) ) // theta_window\n",
    "    discrete_state[0] = min(theta_state_size-1, max(0,discrete_state[0]))\n",
    "\n",
    "    theta_dot_window =  ( theta_dot_minmax - (-theta_dot_minmax) )/ theta_dot_state_size\n",
    "    discrete_state[1] = ( state[3] - (-theta_dot_minmax) ) // theta_dot_window\n",
    "    discrete_state[1] = min(theta_dot_state_size-1, max(0,discrete_state[1]))\n",
    "\n",
    "    return tuple(discrete_state.astype(np.int))\n",
    "\n",
    "for episode in range(EPISODES):\n",
    "    episode_reward = 0\n",
    "    done = False\n",
    "\n",
    "    if episode % EPISODE_DISPLAY == 0:\n",
    "        render_state = True\n",
    "    else:\n",
    "        render_state = False\n",
    "\n",
    "    curr_discrete_state = discretised_state(env.reset())\n",
    "    if np.random.random() > EPSILON:\n",
    "        action = np.argmax(Q_TABLE[curr_discrete_state])\n",
    "    else:\n",
    "action = np.random.randint(0, env.action_space.n)\n",
    "\n",
    "    while not done:\n",
    "        new_state, reward, done, _ = env.step(action)\n",
    "        new_discrete_state = discretised_state(new_state)\n",
    "\n",
    "        if np.random.random() > EPSILON:\n",
    "            new_action = np.argmax(Q_TABLE[new_discrete_state])\n",
    "        else:\n",
    "            new_action = np.random.randint(0, env.action_space.n)\n",
    "\n",
    "        #if render_state:\n",
    "        #\tenv.render()\n",
    "\n",
    "        if not done:\n",
    "            current_q = Q_TABLE[curr_discrete_state+(action,)]\t\t\t\n",
    "            max_future_q = Q_TABLE[new_discrete_state+(new_action,)]\n",
    "            new_q = current_q + LEARNING_RATE*(reward+DISCOUNT*max_future_q-current_q)\n",
    "            Q_TABLE[curr_discrete_state+(action,)]=new_q\n",
    "\n",
    "        curr_discrete_state = new_discrete_state\n",
    "        action = new_action\n",
    "\n",
    "        episode_reward += reward\n",
    "\n",
    "    ep_rewards.append(episode_reward)\n",
    "\n",
    "    if not episode % EPISODE_DISPLAY:\n",
    "        avg_reward = sum(ep_rewards[-EPISODE_DISPLAY:])/len(ep_rewards[-EPISODE_DISPLAY:])\n",
    "        ep_rewards_table['ep'].append(episode)\n",
    "        ep_rewards_table['avg'].append(avg_reward)\n",
    "        ep_rewards_table['min'].append(min(ep_rewards[-EPISODE_DISPLAY:]))\n",
    "        ep_rewards_table['max'].append(max(ep_rewards[-EPISODE_DISPLAY:]))\n",
    "        print(f\"Episode:{episode} avg:{avg_reward} min:{min(ep_rewards[-EPISODE_DISPLAY:])} max:{max(ep_rewards[-EPISODE_DISPLAY:])}\")\n",
    "\n",
    "env.close()\n",
    "\n",
    "plt.plot(ep_rewards_table['ep'], ep_rewards_table['avg'], label=\"avg\")\n",
    "plt.plot(ep_rewards_table['ep'], ep_rewards_table['min'], label=\"min\")\n",
    "plt.plot(ep_rewards_table['ep'], ep_rewards_table['max'], label=\"max\")\n",
    "plt.legend(loc=4) #bottom right\n",
    "plt.title('CartPole SARSA')\n",
    "plt.ylabel('Average reward/Episode')\n",
    "plt.xlabel('Episodes')\n",
    "plt.show()"
   ]
  }
 ],
 "metadata": {
  "kernelspec": {
   "display_name": "Python 3",
   "language": "python",
   "name": "python3"
  },
  "language_info": {
   "codemirror_mode": {
    "name": "ipython",
    "version": 3
   },
   "file_extension": ".py",
   "mimetype": "text/x-python",
   "name": "python",
   "nbconvert_exporter": "python",
   "pygments_lexer": "ipython3",
   "version": "3.6.13"
  }
 },
 "nbformat": 4,
 "nbformat_minor": 5
}
